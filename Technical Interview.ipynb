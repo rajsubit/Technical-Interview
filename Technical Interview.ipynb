{
 "cells": [
  {
   "cell_type": "code",
   "execution_count": 3,
   "metadata": {
    "collapsed": false
   },
   "outputs": [
    {
     "name": "stdout",
     "output_type": "stream",
     "text": [
      " first 0\n",
      "second 2\n",
      "third 11\n",
      "fourth 15\n"
     ]
    }
   ],
   "source": [
    "class Classy(object):\n",
    "    def __init__(self):\n",
    "        self.items = []\n",
    "        \n",
    "    def addItem(self, input):\n",
    "        self.items.append(input)\n",
    "        \n",
    "    def getClassiness(self):\n",
    "        classiness = 0\n",
    "        sum_dict = {'tophat': 2, 'bowtie': 4, 'monocle': 5}\n",
    "        for it in self.items:\n",
    "            value = sum_dict.get(it)\n",
    "            classiness = classiness + value if value else classiness\n",
    "        return classiness\n",
    "\n",
    "me = Classy()\n",
    "print 'first', me.getClassiness()\n",
    "me.addItem('tophat')\n",
    "print 'second', me.getClassiness()\n",
    "me.addItem(\"bowtie\")\n",
    "me.addItem(\"jacket\")\n",
    "me.addItem(\"monocle\")\n",
    "print 'third', me.getClassiness()\n",
    "me.addItem(\"bowtie\")\n",
    "print 'fourth', me.getClassiness()"
   ]
  },
  {
   "cell_type": "code",
   "execution_count": null,
   "metadata": {
    "collapsed": true
   },
   "outputs": [],
   "source": []
  }
 ],
 "metadata": {
  "kernelspec": {
   "display_name": "Python 2",
   "language": "python",
   "name": "python2"
  },
  "language_info": {
   "codemirror_mode": {
    "name": "ipython",
    "version": 2
   },
   "file_extension": ".py",
   "mimetype": "text/x-python",
   "name": "python",
   "nbconvert_exporter": "python",
   "pygments_lexer": "ipython2",
   "version": "2.7.6"
  }
 },
 "nbformat": 4,
 "nbformat_minor": 1
}
